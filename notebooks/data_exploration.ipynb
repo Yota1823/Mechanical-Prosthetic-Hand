#Jupyter notebook for exploring and visualizing data.
# Example code in the notebook
import pandas as pd
import matplotlib.pyplot as plt

# Load the data
data = pd.read_csv('../data/raw/muscle_data_raw.csv')

# Plot muscle voltage over time
plt.figure(figsize=(10, 6))
plt.plot(data['timestamp'], data['muscle_voltage'])
plt.xlabel('Timestamp')
plt.ylabel('Muscle Voltage')
plt.title('Muscle Voltage Over Time')
plt.show()
