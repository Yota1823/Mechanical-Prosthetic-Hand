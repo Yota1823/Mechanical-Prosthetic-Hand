#Jupyter notebook for training and evaluating models.
# Example code in the notebook
import pandas as pd
from sklearn.model_selection import train_test_split
from sklearn.linear_model import LinearRegression
from sklearn.metrics import mean_squared_error

# Load the data
data = pd.read_csv('../data/processed/muscle_data.csv')

# Extract features and target
X = data[['muscle_voltage']]
y = data[['servo_position']]

# Split the data
X_train, X_test, y_train, y_test = train_test_split(X, y, test_size=0.2, random_state=42)

# Train the model
model = LinearRegression()
model.fit(X_train, y_train)

# Evaluate the model
y_pred = model.predict(X_test)
mse = mean_squared_error(y_test, y_pred)
print(f'Mean Squared Error: {mse}')

# Save the model
import joblib
joblib.dump(model, '../models/servo_model.pkl')
